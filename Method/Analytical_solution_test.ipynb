{
 "cells": [
  {
   "cell_type": "code",
   "execution_count": 1,
   "metadata": {
    "collapsed": true
   },
   "outputs": [],
   "source": [
    "from Alice_Macros import *\n",
    "from sklearn.cluster import KMeans\n",
    "from statsmodels.stats.multitest import multipletests\n",
    "from scipy.stats.distributions import hypergeom, norm\n",
    "import pickle, sys, ete3, tqdm\n",
    "from scipy import sparse as sp\n",
    "from TreeOperations import PhyFisher\n",
    "import tqdm\n",
    "from TreeOperations import GetPhyloContingency\n",
    "import matplotlib.pylab as plt\n",
    "from rpy2 import robjects"
   ]
  },
  {
   "cell_type": "code",
   "execution_count": 2,
   "metadata": {
    "collapsed": true
   },
   "outputs": [],
   "source": [
    "def GenerateTree(ntax, birth_rate, death_rate, SaveDir = None):\n",
    "    t = ete3.Tree(robjects.r(\"ape::write.tree(ape::rphylo({},{},{},fossils=FALSE))\".format(ntax,birth_rate,death_rate))[0])\n",
    "    for i, node in enumerate(t.traverse()): node.name = str(i)\n",
    "    if SaveDir:\n",
    "        if not os.path.exists(SaveDir): os.mkdir(SaveDir)\n",
    "        pickle.dump(t, open(os.path.join(SaveDir, \"tree\"), 'wb'))\n",
    "    return t"
   ]
  },
  {
   "cell_type": "code",
   "execution_count": 3,
   "metadata": {
    "collapsed": true
   },
   "outputs": [],
   "source": [
    "def events_to_contingency(events_per_mut):\n",
    "    tables = []\n",
    "    row_it = iter(events_per_mut)\n",
    "    phen = set(next(row_it))\n",
    "    for gene in tqdm.tqdm(row_it, total=len(events_per_mut)-1, desc='converting events to tables'):\n",
    "        gene = set(gene)\n",
    "        tables.append([population - len(set.union(phen, gene)),\n",
    "                       len(set.difference(phen, gene)),\n",
    "                       len(set.difference(gene, phen)),\n",
    "                       len(set.intersection(gene, phen))])\n",
    "    return tables"
   ]
  },
  {
   "cell_type": "code",
   "execution_count": 4,
   "metadata": {
    "collapsed": true
   },
   "outputs": [],
   "source": [
    "node_to_arr = lambda n: np.array(n.todense().astype(np.int8))[0]\n",
    "def RandomAtributes(tree, population, n_genes, events_per_mut, lims=None):\n",
    "    # set binary atributes across phylogeny\n",
    "    order = tree.traverse('preorder')\n",
    "    root = next(order)\n",
    "    root.genotype = sp.csr_matrix(np.random.randint(2, size=n_genes))\n",
    "    for node in tqdm.tqdm(order, total=population, desc='propageting events on tree'):\n",
    "        if lims is None:\n",
    "            mut_here = np.any(node.id == events_per_mut, axis=1)\n",
    "        else:\n",
    "            mut_here = np.zeros(len(events_per_mut))\n",
    "            idx_mut = np.argwhere(node.id == events_per_mut)\n",
    "            idx_mut = idx_mut[idx_mut.T[1]<lims[idx_mut.T[0]]].T[0]\n",
    "            mut_here[idx_mut] = 1\n",
    "        node.genotype = sp.csr_matrix(np.abs(node_to_arr(node.up.genotype) - mut_here))\n",
    "    return tree"
   ]
  },
  {
   "cell_type": "code",
   "execution_count": 5,
   "metadata": {
    "collapsed": true
   },
   "outputs": [],
   "source": [
    "def MarginalMaxLiklihood(X, Tree, tip_row_dict, do_tips=False, naming=False, m_rate=0.5):\n",
    "    # 2 represents {0,1} set\n",
    "    sp_to_arr = lambda sp_arr: np.array(sp_arr.todense().astype(np.int8))[0]\n",
    "    wrap = lambda x: sp_to_arr(X[tip_row_dict[x.name]]) if x.is_leaf() and not do_tips else sp_to_arr(x.genotype)\n",
    "    tree_len = 0\n",
    "    for _ in Tree.traverse(): tree_len += 1\n",
    "    for i, node in tqdm.tqdm(enumerate(Tree.traverse('postorder')), total=tree_len, desc='Ancestral Reconstruction: 1st pass'):\n",
    "        if node.is_leaf():\n",
    "            if not do_tips:\n",
    "                node.genotype = X[tip_row_dict[node.name]]\n",
    "            node.zero_prob = sp.csr_matrix(node.genotype == 0)\n",
    "            node.one_prob = sp.csr_matrix(node.genotype == 1)\n",
    "            continue\n",
    "        if naming: node.name = i\n",
    "        node.one_prob = ((node.children[0].zero_prob * m_rate) + (node.children[0].one_prob * (1-m_rate))) + ((node.children[1].zero_prob * m_rate) + (node.children[1].one_prob * (1-m_rate)))\n",
    "        node.zero_prob= ((node.children[0].zero_prob * (1-m_rate)) + (node.children[0].one_prob * m_rate)) + ((node.children[1].zero_prob * (1-m_rate)) + (node.children[1].one_prob * m_rate))\n",
    "        root.genotype = (root.zero_prob < root.one_prob).astype(int)"
   ]
  },
  {
   "cell_type": "code",
   "execution_count": 6,
   "metadata": {
    "collapsed": true
   },
   "outputs": [],
   "source": [
    "def JointMaxLiklihood(X, Tree, tip_row_dict, do_tips=False, naming=False, m_rate=0.5):\n",
    "    # As explained in FastML\n",
    "    # 2 represents {0,1} set\n",
    "    sp_to_arr = lambda sp_arr: np.array(sp_arr.todense().astype(np.int8))[0]\n",
    "    wrap = lambda x: sp_to_arr(X[tip_row_dict[x.name]]) if x.is_leaf() and not do_tips else sp_to_arr(x.genotype)\n",
    "    tree_len = 0\n",
    "    for _ in Tree.traverse(): tree_len += 1\n",
    "    for node in tqdm.tqdm(Tree.traverse('postorder'), total=tree_len, desc='Ancestral Reconstruction: 1st pass'):\n",
    "        if node.is_leaf():\n",
    "            \"\"\"\n",
    "            For each OTU y perform the following:\n",
    "            1a. Let j be the amino acid at y. Set, for each amino acid i: Cy(i)= j. \n",
    "                This implies that no matter what is the amino acid in the father of y, j is assigned to node y.\n",
    "            1b. Set for each amino acid i: Ly(i) = Pij(ty), where ty is the branch length between y and its father.\n",
    "            \"\"\"\n",
    "            if not do_tips:\n",
    "                node.genotype = X[tip_row_dict[node.name]]\n",
    "            node.C_0 = node.genotype\n",
    "            node.C_1 = node.genotype\n",
    "            node.L_0 = np.ones((node.genotype).shape[1]) * (1 - m_rate)\n",
    "            node.L_0[node.genotype.indices] = m_rate           \n",
    "            node.L_1 = np.ones((node.genotype).shape[1]) * m_rate\n",
    "            node.L_1[node.genotype.indices] = (1-m_rate)\n",
    "            \n",
    "            # log\n",
    "            node.L_1 = np.log(node.L_1)\n",
    "            node.L_0 = np.log(node.L_0)\n",
    "            continue\n",
    "        \n",
    "        \"\"\"\n",
    "        Visit a nonroot internal node, z, which has not been visited yet, \n",
    "        but both of whose sons, nodes x and y, have already been visited, \n",
    "        i.e., Lx(j), Cx(j), Ly(j), and Cy(j) have already been defined for each j. \n",
    "        Let tz be the length of the branch connecting node z and its father. \n",
    "        For each amino acid i, compute Lz(i) and Cz(i) according to the following formulae:\n",
    "\n",
    "        2a. Lz(i) = maxj Pij(tz)× Lx(j) × Ly(j).\n",
    "        2b. Cz(i) = the value of j attaining the above maximum.\n",
    "        \"\"\"\n",
    "        #s0 = node.children[0].L_0.multiply(node.children[1].L_0)\n",
    "        #s0 = node.children[0].L_0 * node.children[1].L_0\n",
    "        s0 = node.children[0].L_0 + node.children[1].L_0\n",
    "        s1 = node.children[0].L_1 + node.children[1].L_1\n",
    "        \n",
    "        # L0_0 = (1-m_rate) * s0\n",
    "        # L0_1 = m_rate * s1\n",
    "        L0_0 = np.log(1-m_rate) + s0\n",
    "        L0_1 = np.log(m_rate) + s1\n",
    "        # node.L_0 = L0_0.maximum(L0_1) # should be ever expanding right?\n",
    "        node.L_0 = np.maximum(L0_0, L0_1)\n",
    "        node.C_0 = L0_0 < L0_1\n",
    "        \n",
    "        #L1_0 = m_rate * s0\n",
    "        #L1_1 = (1-m_rate) * s1\n",
    "        L1_0 = np.log(m_rate) + s0\n",
    "        L1_1 = np.log(1-m_rate) + s1\n",
    "        #node.L_1 = L1_0.maximum(L1_1)\n",
    "        node.L_1 = np.maximum(L1_0, L1_1)\n",
    "        node.C_1 = L1_0 < L1_1\n",
    "        \n",
    "       \n",
    "        del node.children[0].L_0\n",
    "        del node.children[1].L_0\n",
    "        del node.children[0].L_1\n",
    "        del node.children[1].L_1\n",
    "       \n",
    "    #return Tree\n",
    "    \n",
    "    post = Tree.traverse('preorder')\n",
    "    root = next(post)\n",
    "    \"\"\"\n",
    "    Denote the sons of the root by x, y. \n",
    "    For each amino acid k, compute the expression Pk × Lx(k) × Ly(k). \n",
    "    Reconstruct r by choosing the amino acid k maximizing this expression. \n",
    "    The maximum value found is the likelihood of the best reconstruction.\n",
    "    \"\"\"\n",
    "    root.genotype = sp.csr_matrix(root.L_0 < node.L_1)\n",
    "    if naming: root.name = 0\n",
    "    for i,node in tqdm.tqdm(enumerate(post), total=tree_len, desc='Ancestral Reconstruction: 2nd pass'):\n",
    "        \"\"\"\n",
    "        Traverse the tree from the root in the direction of the OTUs, \n",
    "        assigning to each node its most likely ancestral character as follows:\n",
    "        \n",
    "        5a. Visit an unreconstructed internal node x whose father y has already been reconstructed. \n",
    "            Denote by i the reconstructed amino acid at node y.\n",
    "        5b. Reconstruct node x by choosing Cx(i).\n",
    "        5c. Return to step 5a until all internal nodes have already been reconstructed.\n",
    "        \"\"\"\n",
    "        if not node.is_leaf(): \n",
    "            if naming: node.name = i + 1\n",
    "            node.genotype = sp.csr_matrix(node.C_0)\n",
    "            node.genotype[0, node.up.genotype.indices] = node.C_1[node.up.genotype.indices]\n",
    "            # np.where(node.up.genotype, node.C_1, node.C_0)\n",
    "        del node.C_0,node.C_1\n",
    "    \n",
    "    return Tree "
   ]
  },
  {
   "cell_type": "code",
   "execution_count": 7,
   "metadata": {
    "collapsed": true
   },
   "outputs": [],
   "source": [
    "def MaxParsimonyNoTable(X, Tree, tip_row_dict, do_tips=False, naming=False):\n",
    "    \"\"\"\n",
    "    Reconstruct ancestral characters using MaxParsimony / occam's razor logic...\n",
    "    Note this implementation relays on binary characters\n",
    "\n",
    "    The first pass extracts info from the leaves upwards with the following function:\n",
    "    Intersect when an intersection is available, otherwise yeild union.\n",
    "    e.g given dijointed sets A,B\n",
    "\n",
    "         AUB   |      A     |      B\n",
    "         /^\\   |     /^\\    |     /^\\\n",
    "        A  B   |    A  AUB  |    B  B\n",
    "\n",
    "    The second pass brings stable information from root to leaves.\n",
    "    The root might need randomization to deside on a character.\n",
    "    We consider events influenced by randomization as risky, and they are documented in 'random'.\n",
    "    A parent will always be a single character, and a son might get updated by intersection with parent node:\n",
    "\n",
    "         A     >      A     |     A     >      A     |\n",
    "        /^\\    >     /^\\    |    /^\\    >     /^\\    |\n",
    "       A  AUB  >    A  A    |   A  B    >    A   B    |\n",
    "\n",
    "    :param X: sparse csr_mat data to reconstruct\n",
    "    :param Tree: ete3 tree\n",
    "    :param tip_row_dict: dict mapping leaf names to row number in X\n",
    "    :return: A tree where each node has a\n",
    "            .genotype containing the reconstruction by X\n",
    "            .random documenting non-determinant values\n",
    "    \"\"\"\n",
    "    # 2 represents {0,1} set\n",
    "    sp_to_arr = lambda sp_arr: np.array(sp_arr.todense().astype(np.int8))[0]\n",
    "    wrap = lambda x: sp_to_arr(X[tip_row_dict[x.name]]) if x.is_leaf() and not do_tips else sp_to_arr(x.genotype)\n",
    "    tree_len = 0\n",
    "    for _ in Tree.traverse(): tree_len += 1\n",
    "    for i, node in tqdm.tqdm(enumerate(Tree.traverse('postorder')), total=tree_len, desc='Ancestral Reconstruction: 1st pass'):\n",
    "        if node.is_leaf():\n",
    "            if not do_tips:\n",
    "                node.genotype = X[tip_row_dict[node.name]]\n",
    "            continue\n",
    "        if naming: node.name = i\n",
    "        children = [wrap(c) for c in node.children]\n",
    "        res = children[0].copy()\n",
    "        eq = np.equal(*children)\n",
    "        res[children[0] == 2] = children[1][children[0] == 2]  # 2 is the union {0,1}\n",
    "        res[children[1] == 2] = children[0][children[1] == 2]\n",
    "        res[(children[0] != 2) & (children[1] != 2) & ~eq] = 2\n",
    "        node.genotype = sp.csr_matrix(res)\n",
    "\n",
    "    post = Tree.traverse('preorder')\n",
    "    root = next(post)\n",
    "    root.random = (wrap(root) == 2)\n",
    "    root.genotype[root.genotype == 2] = np.random.choice([1, 0], size=(root.genotype == 2).sum())\n",
    "    for node in tqdm.tqdm(post, total=tree_len - 1, desc='Ancestral Reconstruction: 2nd pass'):\n",
    "        if node.is_leaf(): continue\n",
    "        parent_ = wrap(node.up)\n",
    "        node_ = wrap(node)\n",
    "        res = node_.copy()\n",
    "        res[node_ == 2] = parent_[node_ == 2]\n",
    "        node.random = (node.up.random) & (node_ == 2)  # these are unstable positions - will not be counted\n",
    "        node.genotype = sp.csr_matrix(res)\n",
    "\n",
    "    return Tree"
   ]
  },
  {
   "cell_type": "code",
   "execution_count": 8,
   "metadata": {
    "collapsed": true
   },
   "outputs": [],
   "source": [
    "def GetPhyloTipsContingency(tree, phenotree, phen_ind, skip=0):\n",
    "    \"\"\"\n",
    "    Collects co-occuring events along the phylogeny\n",
    "    \n",
    "                                 /--(1,1)\n",
    "                       /--(0,1)-|\n",
    "             /--(0,1)-|          \\--(0,1)\n",
    "    --(0,1)-|          \\--(1,1)\n",
    "             \\--(0,1)\n",
    "\n",
    "    Would translate to the following contingency table:\n",
    "\n",
    "    T\\Q| 0  1\n",
    "    ---------\n",
    "     0 | 4  1\n",
    "     1 | 1  0\n",
    "\n",
    "    :param tree: ete3 tree\n",
    "    :param phen_ind: index of target T\n",
    "    :param skip: number of qualities to skip\n",
    "    :return: A contingency table for each available quality in a nodes 'genotype' value\n",
    "    # TODO someday, if there are too much kmers build upo ad 3d hist, adding binary 3d objects one node at a time.\n",
    "    \"\"\"\n",
    "\n",
    "    hist_kmers = []\n",
    "    node_to_arr = lambda n: np.array(n.genotype.todense().astype(np.int8))[0]\n",
    "    for leaf, phen_leaf in tqdm.tqdm(zip(tree, phenotree), \n",
    "                                         total=len(tree), desc='Iterating leaves'):\n",
    "        \n",
    "        gene_state = node_to_arr(leaf)[skip:]\n",
    "        phen_state = np.int8(phen_leaf.genotype[0, phen_ind])\n",
    "        \n",
    "        hist = 2 * phen_state + gene_state  # current state\n",
    "        hist_kmers.append(hist)\n",
    "            \n",
    "    bins = lambda x: np.bincount(x[x >= 0], minlength=4)\n",
    "    contingencies = np.apply_along_axis(bins, 0, hist_kmers)\n",
    "    return contingencies"
   ]
  },
  {
   "cell_type": "code",
   "execution_count": 9,
   "metadata": {
    "collapsed": true
   },
   "outputs": [],
   "source": [
    "def GetPhyloSebsequentScore(tree, phenotree, phen_ind, skip=0, with_rand=False, dist_only=False, dist=None):\n",
    "    \"\"\"\n",
    "    Collects co-occuring events along the phylogeny\n",
    "    \n",
    "                                 /--(1,1)\n",
    "                       /--(0,1)-|\n",
    "             /--(0,1)-|          \\--(0,1)\n",
    "    --(0,1)-|          \\--(1,1)\n",
    "             \\--(0,1)\n",
    "\n",
    "    Would translate to the following contingency table:\n",
    "\n",
    "    T\\Q| 0  1\n",
    "    ---------\n",
    "     0 | 4  1\n",
    "     1 | 1  0\n",
    "\n",
    "    :param tree: ete3 tree\n",
    "    :param phen_ind: index of target T\n",
    "    :param skip: number of qualities to skip\n",
    "    :return: A contingency table for each available quality in a nodes 'genotype' value\n",
    "    \"\"\"\n",
    "\n",
    "    subscore = np.zeros(tree.genotype.shape[1] - skip)\n",
    "    node_to_arr = lambda n: np.array(n.genotype.todense().astype(np.int8))[0]\n",
    "    for i, (cur_node, phen_node) in tqdm.tqdm(enumerate(zip(tree.traverse(), phenotree.traverse())), \n",
    "                                         total=population+1, desc='Iterating tree'):        \n",
    "        if not cur_node.is_root():\n",
    "            if not cur_node.is_leaf() and with_rand and cur_node.random[phen_ind]: continue\n",
    "            node = node_to_arr(cur_node)\n",
    "            prev_node = node_to_arr(cur_node.up)\n",
    "            \n",
    "            gene_state = node[skip:]\n",
    "            prev_gene_state = prev_node[skip:]\n",
    "            \n",
    "            phen_state = phen_node.genotype[0, phen_ind]\n",
    "            prev_phen_state = phen_node.up.genotype[0, phen_ind]\n",
    "            \n",
    "            subscore += np.abs((1.333 * prev_phen_state * prev_gene_state) + \n",
    "                              (.666 * prev_phen_state * gene_state) + \n",
    "                              (.666 * phen_state * prev_gene_state) + \n",
    "                              (1.333 * phen_state * gene_state) - \n",
    "                              phen_state - \n",
    "                              prev_phen_state - \n",
    "                              gene_state - \n",
    "                              prev_gene_state + \n",
    "                              1)\n",
    "           \n",
    "    if dist_only:\n",
    "        hist_ = np.histogram(subscore, bins=int(1e7))\n",
    "        fit_dist = rv_histogram(hist_)\n",
    "        fit_dist.bin = np.diff(hist_[1]).max()\n",
    "        return fit_dist\n",
    "    if dist is not None:\n",
    "        return dist.sf(subscore)\n",
    "    else:\n",
    "        return subscore"
   ]
  },
  {
   "cell_type": "code",
   "execution_count": 10,
   "metadata": {},
   "outputs": [
    {
     "ename": "SyntaxError",
     "evalue": "invalid syntax (<ipython-input-10-e7e67f0fd847>, line 42)",
     "output_type": "error",
     "traceback": [
      "\u001b[0;36m  File \u001b[0;32m\"<ipython-input-10-e7e67f0fd847>\"\u001b[0;36m, line \u001b[0;32m42\u001b[0m\n\u001b[0;31m    score =\u001b[0m\n\u001b[0m            ^\u001b[0m\n\u001b[0;31mSyntaxError\u001b[0m\u001b[0;31m:\u001b[0m invalid syntax\n"
     ]
    }
   ],
   "source": [
    "def GetPhyloEventScore(tree, phenotree, phen_ind, skip=0, with_rand=False):\n",
    "    \"\"\"\n",
    "    Collects co-occuring events along the phylogeny\n",
    "    \n",
    "                                 /--(1,1)\n",
    "                       /--(0,1)-|\n",
    "             /--(0,1)-|          \\--(0,1)\n",
    "    --(0,1)-|          \\--(1,1)\n",
    "             \\--(0,1)\n",
    "\n",
    "    Would translate to the following contingency table:\n",
    "\n",
    "    T\\Q| 0  1\n",
    "    ---------\n",
    "     0 | 4  1\n",
    "     1 | 1  0\n",
    "\n",
    "    :param tree: ete3 tree\n",
    "    :param phen_ind: index of target T\n",
    "    :param skip: number of qualities to skip\n",
    "    :return: A contingency table for each available quality in a nodes 'genotype' value\n",
    "    \"\"\"\n",
    "\n",
    "    score = np.zeros(tree.genotype.shape[1] - skip)\n",
    "    node_to_arr = lambda n: np.array(n.genotype.todense().astype(np.int8))[0]\n",
    "    contingency_sum = 100\n",
    "    for i, (cur_node, phen_node) in tqdm.tqdm(enumerate(zip(tree.traverse(), phenotree.traverse())), \n",
    "                                         total=population+1, desc='Iterating tree'):\n",
    "        if not cur_node.is_root():\n",
    "            if not cur_node.is_leaf() and with_rand and cur_node.random[phen_ind]: continue\n",
    "            node = node_to_arr(cur_node)\n",
    "            prev_node = node_to_arr(cur_node.up)\n",
    "            \n",
    "            gene_state = node[skip:]\n",
    "            prev_gene_state = prev_node[skip:]\n",
    "            \n",
    "            phen_state = phen_node.genotype[0, phen_ind]\n",
    "            prev_phen_state = phen_node.up.genotype[0, phen_ind]\n",
    "            \n",
    "            phen_event = (prev_phen_state != phen_state)\n",
    "            gene_event = ~np.equal(prev_gene_state, gene_state)\n",
    "            score = \n",
    "            \n",
    "            hist = 2 * phen_event + gene_event  # current state\n",
    "            if with_rand: hist[cur_node.up.random[skip:]] = -1\n",
    "            # mark non-deterministic transition as invalid\n",
    "            if not cur_node.is_leaf() and with_rand: \n",
    "                hist[cur_node.random[skip:]] = -1\n",
    "            hist_kmers.append(hist)\n",
    "            \n",
    "    bins = lambda x: np.bincount(x[x >= 0], minlength=4) # TODO mem inefficiant\n",
    "    if contingencies is None:\n",
    "        contingencies = np.apply_along_axis(bins, 0, hist_kmers)\n",
    "    else:\n",
    "        contingencies += np.apply_along_axis(bins, 0, hist_kmers) \n",
    "    return contingencies"
   ]
  },
  {
   "cell_type": "code",
   "execution_count": null,
   "metadata": {
    "collapsed": true
   },
   "outputs": [],
   "source": [
    "def GetPhyloEventContingency(tree, phenotree, phen_ind, skip=0, with_rand=False):\n",
    "    \"\"\"\n",
    "    Collects co-occuring events along the phylogeny\n",
    "    \n",
    "                                 /--(1,1)\n",
    "                       /--(0,1)-|\n",
    "             /--(0,1)-|          \\--(0,1)\n",
    "    --(0,1)-|          \\--(1,1)\n",
    "             \\--(0,1)\n",
    "\n",
    "    Would translate to the following contingency table:\n",
    "\n",
    "    T\\Q| 0  1\n",
    "    ---------\n",
    "     0 | 4  1\n",
    "     1 | 1  0\n",
    "\n",
    "    :param tree: ete3 tree\n",
    "    :param phen_ind: index of target T\n",
    "    :param skip: number of qualities to skip\n",
    "    :return: A contingency table for each available quality in a nodes 'genotype' value\n",
    "    \"\"\"\n",
    "\n",
    "    hist_kmers = []\n",
    "    node_to_arr = lambda n: np.array(n.genotype.todense().astype(np.int8))[0]\n",
    "    contingency_sum = 100\n",
    "    contingencies = None\n",
    "    for i, (cur_node, phen_node) in tqdm.tqdm(enumerate(zip(tree.traverse(), phenotree.traverse())), \n",
    "                                         total=population+1, desc='Iterating tree'):\n",
    "        if (i+1) % contingency_sum == 0 :\n",
    "            # mem inefficiant here\n",
    "            bins = lambda x: np.bincount(x[x >= 0], minlength=4)\n",
    "            if contingencies is None:\n",
    "                contingencies = np.apply_along_axis(bins, 0, hist_kmers)\n",
    "            else:\n",
    "                contingencies += np.apply_along_axis(bins, 0, hist_kmers)\n",
    "            hist_kmers = []\n",
    "            \n",
    "        if not cur_node.is_root():\n",
    "            if not cur_node.is_leaf() and with_rand and cur_node.random[phen_ind]: continue\n",
    "            node = node_to_arr(cur_node)\n",
    "            prev_node = node_to_arr(cur_node.up)\n",
    "            \n",
    "            gene_state = node[skip:]\n",
    "            prev_gene_state = prev_node[skip:]\n",
    "            \n",
    "            phen_state = phen_node.genotype[0, phen_ind]\n",
    "            prev_phen_state = phen_node.up.genotype[0, phen_ind]\n",
    "            \n",
    "            phen_event = (prev_phen_state != phen_state)\n",
    "            gene_event = ~np.equal(prev_gene_state, gene_state)\n",
    "            \n",
    "            hist = 2 * phen_event + gene_event  # current state\n",
    "            if with_rand: hist[cur_node.up.random[skip:]] = -1\n",
    "            # mark non-deterministic transition as invalid\n",
    "            if not cur_node.is_leaf() and with_rand: \n",
    "                hist[cur_node.random[skip:]] = -1\n",
    "            hist_kmers.append(hist)\n",
    "            \n",
    "    bins = lambda x: np.bincount(x[x >= 0], minlength=4) # TODO mem inefficiant\n",
    "    if contingencies is None:\n",
    "        contingencies = np.apply_along_axis(bins, 0, hist_kmers)\n",
    "    else:\n",
    "        contingencies += np.apply_along_axis(bins, 0, hist_kmers) \n",
    "    return contingencies"
   ]
  },
  {
   "cell_type": "code",
   "execution_count": null,
   "metadata": {
    "collapsed": true
   },
   "outputs": [],
   "source": [
    "from scipy.stats import rv_discrete\n",
    "def SetHomoplasy(tree, skip=0):\n",
    "    \"\"\"\n",
    "    Get distribution of homoplasy\n",
    "    \"\"\"\n",
    "    order = tree.traverse()\n",
    "    root = next(order)\n",
    "    homoplasy_hist = sp.csr_matrix(np.zeros(root.genotype.shape[1]-1))\n",
    "    for cur_node in tqdm.tqdm(order, total=population):\n",
    "        homoplasy_hist += (cur_node.genotype[0, skip:] != cur_node.up.genotype[0, skip:])\n",
    "    homoplasy_dist = pd.Series(homoplasy_hist.data).value_counts(normalize=True)\n",
    "    fit_dist = rv_discrete(values=(homoplasy_dist.index.astype(int), homoplasy_dist.values.astype(float)))\n",
    "    root.homoplasy = fit_dist\n",
    "    return tree"
   ]
  },
  {
   "cell_type": "code",
   "execution_count": null,
   "metadata": {},
   "outputs": [],
   "source": [
    "colnames = ['ods', 'contingency']\n",
    "from scipy.stats import rv_histogram\n",
    "from rpy2.robjects import pandas2ri\n",
    "from rpy2.robjects.packages import importr\n",
    "pandas2ri.activate()\n",
    "statspackage = importr('stats', robject_translations={'format_perc': '_format_perc'})\n",
    "\n",
    "def tables_to_pval(tables, pval_type='fisher', twotail=False):\n",
    "    No_Phen_no_Kmer, Has_Kmer_no_Phen, Has_Phen_no_Kmer, Has_Kmer_and_Phen = tables\n",
    "\n",
    "    # if ant zero's add 0.5 to all cells\n",
    "    append = ~((No_Phen_no_Kmer > 0) * (Has_Kmer_no_Phen > 0) * (Has_Kmer_and_Phen > 0) * (\n",
    "                Has_Phen_no_Kmer > 0)) * 0.5\n",
    "    Has_Kmer_and_Phen = Has_Kmer_and_Phen + append\n",
    "    Has_Kmer_no_Phen = Has_Kmer_no_Phen + append\n",
    "    Has_Phen_no_Kmer = Has_Phen_no_Kmer + append\n",
    "    No_Phen_no_Kmer = No_Phen_no_Kmer + append\n",
    "\n",
    "    log_ods = np.log(np.divide((Has_Kmer_and_Phen * No_Phen_no_Kmer), (Has_Kmer_no_Phen * Has_Phen_no_Kmer)))\n",
    "    \n",
    "    if pval_type == 'fisher':\n",
    "        print('calculating pvals')\n",
    "        fisher = np.vectorize(lambda x:  list(map(list, statspackage.fisher_test(x, alternative='g')[:3])))\n",
    "        fisher_input = list(zip(zip(Has_Kmer_and_Phen, Has_Kmer_no_Phen), zip(Has_Phen_no_Kmer, No_Phen_no_Kmer)))\n",
    "        fisher_unique, curr_inverse_ind = np.unique(fisher_input, return_inverse=True, axis=0) #condence to uniq\n",
    "        res = pd.DataFrame(fisher(pd.Series(list(fisher_unique))).tolist())[0].apply(lambda x: x[0])\n",
    "        res = res.iloc[curr_inverse_ind].values\n",
    "    elif pval_type == 'hist':     \n",
    "        print('calculating pvals')\n",
    "        hist_ = np.histogram(log_ods, bins=int(1e7))\n",
    "        fit_dist = rv_histogram(hist_)\n",
    "        fit_dist.bin = np.diff(hist_[1]).max()\n",
    "        if twotail:\n",
    "            #res = fit_dist.sf(np.abs(log_ods), loc=fit_dist.bin) + fit_dist.cdf(-np.abs(log_ods), loc=-fit_dist.bin)\n",
    "            res = fit_dist.sf(np.abs(log_ods)) + fit_dist.cdf(-np.abs(log_ods))\n",
    "        else:    \n",
    "            res = fit_dist.sf(log_ods)#, loc=fit_dist.bin)\n",
    "    elif pval_type == 'hist_only':\n",
    "        print('calculating distribution')\n",
    "        hist_ = np.histogram(log_ods, bins=int(1e7))\n",
    "        fit_dist = rv_histogram(hist_)\n",
    "        fit_dist.bin = np.diff(hist_[1]).max()\n",
    "        return fit_dist, pd.DataFrame([log_ods, tables.T], index=colnames).T\n",
    "    elif type(pval_type) is rv_histogram:\n",
    "        print('calculating pvals')\n",
    "        if twotail:\n",
    "            #res = pval_type.sf(np.abs(log_ods), loc=pval_type.bin) + pval_type.cdf(-np.abs(log_ods), loc=-pval_type.bin)\n",
    "            res = pval_type.sf(np.abs(log_ods)) + pval_type.cdf(-np.abs(log_ods))\n",
    "        else:\n",
    "            res = pval_type.sf(log_ods)#, loc=pval_type.bin)\n",
    "        pval_type = 'input_hist'\n",
    "    return pd.DataFrame([res, log_ods, tables.T], index=['pval_'+pval_type]+colnames).T"
   ]
  },
  {
   "cell_type": "code",
   "execution_count": null,
   "metadata": {
    "collapsed": true,
    "scrolled": false
   },
   "outputs": [],
   "source": [
    "from scipy.stats import pearsonr, spearmanr\n",
    "def ods_fig(tot_tables, ods_columns):\n",
    "    plt.close('all')\n",
    "    with plt.style.context('default'):\n",
    "        for col in ods_columns:\n",
    "            plt.plot(sorted(tot_tables[col]), np.arange(len(tot_tables)) / len(tot_tables), label=col)\n",
    "        plt.xlim(-6,6)\n",
    "        # plt.xlabel(str(spearmanr(tot_tables['ods'], tot_tables['ods_recon'])))\n",
    "        plt.legend()\n",
    "        plt.title(str(n_mutations)+' mutations'+(' JointLike' if max_like else ' MaxPars')+': ods ratio cdf')\n",
    "        if save_fig: plt.savefig(str(n_mutations)+('_max_like' if max_like else '')+'_ods.png')\n",
    "        plt.show()"
   ]
  },
  {
   "cell_type": "code",
   "execution_count": null,
   "metadata": {
    "collapsed": true,
    "scrolled": false
   },
   "outputs": [],
   "source": [
    "from scipy.stats import pearsonr, spearmanr\n",
    "def ods_ratio_sf(tot_tables, ods_cols, outpath=''):\n",
    "    plt.close('all')\n",
    "    with plt.style.context('default'):\n",
    "        for col in ods_cols:\n",
    "            plt.plot(sorted(tot_tables[col], reverse=True), np.arange(len(tot_tables)) / len(tot_tables), label=col)\n",
    "        plt.yscale('log')\n",
    "        plt.xlabel(str(spearmanr(tot_tables[ods_cols[0]], tot_tables[ods_cols[1]])))\n",
    "        plt.legend()\n",
    "        plt.title(str(n_mutations)+' mutations'+(' JointLike' if max_like else ' MaxPars')+': ods ratio sf')\n",
    "\n",
    "        if save_fig: plt.savefig(os.path.join(outpath, str(n_mutations)+('_max_like' if max_like else '')+'_ods.png'))\n",
    "        plt.show()"
   ]
  },
  {
   "cell_type": "code",
   "execution_count": null,
   "metadata": {
    "scrolled": false
   },
   "outputs": [],
   "source": [
    "plt.close('all')\n",
    "def pval_hists(tables, pval_cols, cmap='rainbow', outpath=''):\n",
    "    colors = plt.cm.get_cmap(cmap)(range(0, 255, 256//len(pval_cols)))\n",
    "    with plt.style.context('default'):\n",
    "        ax = plt.subplot()\n",
    "        for col, color in zip(pval_cols, colors):\n",
    "            ax.loglog(sorted(tables[col]), np.arange(len(tables)) / len(tables), label=col, color=color)\n",
    "        ax.loglog(np.arange(len(tables)) / len(tables), np.arange(len(tables)) / len(tables), label='diag')\n",
    "        ax.set_xlabel(str(n_mutations) +' mutations'+(' JointLike' if max_like else ' MaxPars')+': pval cdf')\n",
    "        ax.set_ylabel('population fraction')\n",
    "        cell_text = spearmanr(tot_tables[pval_cols])[0]\n",
    "        cell_text = np.vectorize(lambda x: \"{:.2e}\".format(x))(cell_text)\n",
    "        labels = pval_cols\n",
    "        the_table = ax.table(cellText=cell_text,\n",
    "                              colColours=colors,\n",
    "                              colLabels=labels,\n",
    "                              loc='top')\n",
    "\n",
    "        if save_fig: plt.savefig(os.path.join(outpath, str(n_mutations)+('_max_like' if max_like else '')+'_pval.png'))\n",
    "        plt.show()"
   ]
  },
  {
   "cell_type": "code",
   "execution_count": null,
   "metadata": {
    "collapsed": true,
    "scrolled": false
   },
   "outputs": [],
   "source": [
    "def pval_corr(tot_tables, pval_cols, outpath=''):\n",
    "    plt.close('all')\n",
    "    cell_text = spearmanr(tot_tables[pval_cols])[0]\n",
    "    cell_text = np.vectorize(lambda x: \"{:.2e}\".format(x))(cell_text)\n",
    "    with plt.style.context('default'):\n",
    "        tmp_pval = tot_tables[pval_cols][~(tot_tables[pval_cols] == 0).any(axis=1)]\n",
    "        for i, col in enumerate(pval_cols[1:]):\n",
    "            plt.scatter(np.log10(tmp_pval[pval_cols[0]].astype(float)), np.log10(tmp_pval[col].astype(float)),\n",
    "                        alpha=.1, label=col+' pval: ' + cell_text[0][i+1])\n",
    "        plt.xlabel('log pval '+pval_cols[0])\n",
    "        plt.legend()\n",
    "        plt.title('Fisher pval correlation'+(' JointLike' if max_like else ' MaxPars'))\n",
    "        if save_fig: plt.savefig(os.path.join(outpath, str(n_mutations)+('_max_like' if max_like else '')+'_scatter.png'))\n",
    "        plt.show()\n",
    "        del tmp_pval"
   ]
  },
  {
   "cell_type": "code",
   "execution_count": null,
   "metadata": {
    "collapsed": true
   },
   "outputs": [],
   "source": [
    "def hist_to_spearman(table, pval_main, cols, hist, outpath=''):\n",
    "    with plt.style.context('default'):\n",
    "        plt.close('all')\n",
    "        for col in cols:\n",
    "            pval_hist = []\n",
    "            for val in range(1,int(hist.max()+2)):\n",
    "                tmp_pval = table.loc[(hist<val).indices]\n",
    "                spear = spearmanr(tmp_pval[[pval_main, col]])[0]\n",
    "                pval_hist.append(spear)\n",
    "            plt.plot(range(int(hist.max()+1)), pval_hist, label=col)\n",
    "        plt.xlabel('tree recon distance')\n",
    "        plt.ylabel('spearman correlation for d or lower distance')\n",
    "        plt.title('spearman for recon distance')\n",
    "        plt.legend()\n",
    "        plt.savefig(os.path.join(outpath, str(n_mutations)+('_max_like' if max_like else '')+'_spearman_distance.png'))\n",
    "        plt.show()\n",
    "\n",
    "        plt.close('all')\n",
    "        hist = sorted(hist.toarray()[0], reverse=True)\n",
    "        plt.plot(hist, np.arange(len(hist)) / len(hist), label='source')\n",
    "        plt.yscale('log')\n",
    "        plt.title('recon distance over population sf')\n",
    "        plt.xlabel('recon distance')\n",
    "        plt.ylabel('population with <= recon distance')\n",
    "        plt.savefig(os.path.join(outpath, str(n_mutations)+('_max_like' if max_like else '')+'_distance_sur.png'))\n",
    "        plt.show()"
   ]
  },
  {
   "cell_type": "markdown",
   "metadata": {},
   "source": [
    "# Pipe"
   ]
  },
  {
   "cell_type": "code",
   "execution_count": null,
   "metadata": {
    "scrolled": true
   },
   "outputs": [],
   "source": [
    "\"\"\"\n",
    "Plan:\n",
    "\n",
    "GroundTruth\n",
    "1) build a tree (currently constant branch length)\n",
    "2) simulate genotypes with a (fixed or from poiss dist) number of events by subsampling branches of tree\n",
    "3) select a first genotype as phenotype\n",
    "4) calculate contingencies of co-occuring events with phenotype of all traits\n",
    "5) set pval as sf function of the calculated histogram of ods\n",
    "\n",
    "MyCalc\n",
    "6) reconstruct event of the phylogeny\n",
    "7) calculate contingencies and ods from reconstructed tree to GroundTruth phenotype\n",
    "8) set custom pval as the fisher test\n",
    "\n",
    "TreeWas\n",
    "9) estimate homoplay from ancestral reconstruction (6)\n",
    "10) simulate 10x times the number of events\n",
    "11) calculate TreeWas scores from simulated set to GroundTruth phenotype (assumed to be perfectly reconstructed)\n",
    "12) calculate TreeWas scores from reconstructed tree to GroundTruth phenotype\n",
    "\"\"\""
   ]
  },
  {
   "cell_type": "code",
   "execution_count": null,
   "metadata": {
    "collapsed": true
   },
   "outputs": [],
   "source": [
    "from scipy.stats import poisson\n",
    "import os"
   ]
  },
  {
   "cell_type": "code",
   "execution_count": null,
   "metadata": {
    "collapsed": true
   },
   "outputs": [],
   "source": [
    "# Global (program) params\n",
    "leaf_population = 1000\n",
    "n_genes = int(5e4)\n",
    "n_mutations = 100\n",
    "homoplasy = poisson(n_mutations)\n",
    "max_like = False # Maxpasimony is used over max like in TreeWas: appendix 2\n",
    "tips = False\n",
    "subs = False\n",
    "para = True\n",
    "use_homop = False\n",
    "save_fig = True\n",
    "outpath = 'figs'\n",
    "if not os.path.exists(outpath): os.mkdir(outpath)"
   ]
  },
  {
   "cell_type": "code",
   "execution_count": null,
   "metadata": {
    "scrolled": false
   },
   "outputs": [],
   "source": [
    "# 1) build a tree\n",
    "GroundTruthTree = ete3.Tree()\n",
    "GroundTruthTree.populate(leaf_population)\n",
    "for i,n in enumerate(tqdm.tqdm(GroundTruthTree.traverse())): n.id = i\n",
    "population = i\n",
    "m_rate = (n_mutations/population)"
   ]
  },
  {
   "cell_type": "code",
   "execution_count": null,
   "metadata": {},
   "outputs": [],
   "source": [
    "# for branch prportional (0-1) use fro every mut: \n",
    "# just set a branch distribution\n",
    "# np.random.choice(population, lims.max(), p=branches, replace=False)"
   ]
  },
  {
   "cell_type": "code",
   "execution_count": null,
   "metadata": {
    "scrolled": true
   },
   "outputs": [],
   "source": [
    "# 2) simulate a set number of events by subsampling branches of tree\n",
    "# TreeWas has a transition matrix Q for (g,p) to get number of interesting genes. We do things a bit differant\n",
    "\n",
    "# for branch prportional (0-1) use fro every mut: np.random.choice(population, lims.max(), p=branches, replace=False)\n",
    "if use_homop:\n",
    "    lims = homoplasy.rvs(size=n_genes)\n",
    "    events_per_mut = (np.argsort(np.random.rand(n_genes, population-1))[:, :lims.max()] + 1)\n",
    "    GroundTruthTree = RandomAtributes(GroundTruthTree, population, n_genes, events_per_mut, lims=lims)\n",
    "else:\n",
    "    events_per_mut = (np.argsort(np.random.rand(n_genes, population-1))[:, :n_mutations] + 1)\n",
    "    GroundTruthTree = RandomAtributes(GroundTruthTree, population, n_genes, events_per_mut)\n",
    "\n",
    "# 3) select a phenotype\n",
    "# 4) calculate contingencies of co-occuring events with phenotype of all traits\n",
    "GroundTruthTables = events_to_contingency(events_per_mut)\n",
    "ground_truth_tips = GetPhyloTipsContingency(GroundTruthTree, GroundTruthTree, phen_ind=0, skip=1)\n",
    "del events_per_mut\n",
    "\n",
    "# 5) set pval as sf function of the calculated histogram of ods\n",
    "GroundTruthTables_para = tables_to_pval(np.transpose(GroundTruthTables), 'hist')\n",
    "ground_truth_tips = tables_to_pval(ground_truth_tips, 'hist', twotail=True)\n",
    "GroundTruthTables = GroundTruthTables_para.join(ground_truth_tips, lsuffix='_para', rsuffix='_tips')\n",
    "del GroundTruthTables_para, ground_truth_tips"
   ]
  },
  {
   "cell_type": "code",
   "execution_count": null,
   "metadata": {
    "scrolled": true
   },
   "outputs": [],
   "source": [
    "# 6) reconstruct event of the phylogeny\n",
    "# 6.1) choose ancestral reconstruction method\n",
    "if max_like:\n",
    "    ReconTree = JointMaxLiklihood(None, GroundTruthTree.copy(), {}, do_tips=True, naming=False, m_rate=m_rate)\n",
    "else:\n",
    "    ReconTree = MaxParsimonyNoTable(None, GroundTruthTree.copy(), {}, do_tips=True)"
   ]
  },
  {
   "cell_type": "code",
   "execution_count": null,
   "metadata": {
    "collapsed": true
   },
   "outputs": [],
   "source": [
    "ReconHist = sp.csr_matrix(np.zeros(shape=(1, n_genes)))\n",
    "for og_node, recon_node in zip(GroundTruthTree.traverse(), ReconTree.traverse()):\n",
    "    ReconHist += (og_node.genotype != recon_node.genotype)\n",
    "ReconHist = ReconHist[0, 1:] # no pheno"
   ]
  },
  {
   "cell_type": "code",
   "execution_count": null,
   "metadata": {
    "scrolled": true
   },
   "outputs": [],
   "source": [
    "# 7) calculate contingencies and ods from reconstructed tree to GroundTruth phenotype\n",
    "tables_recon_para = GetPhyloEventContingency(ReconTree, GroundTruthTree, phen_ind=0, skip=1, with_rand=True)\n",
    "tables_recon_tips = GetPhyloTipsContingency(ReconTree, GroundTruthTree, phen_ind=0, skip=1)\n",
    "tables_recon_subs = GetPhyloSebsequentScore(ReconTree, GroundTruthTree, phen_ind=0, skip=1, with_rand=False) \n",
    "# 8) set custom pval as the fisher test\n",
    "tables_recon = tables_to_pval(tables_recon_para, 'fisher')"
   ]
  },
  {
   "cell_type": "code",
   "execution_count": null,
   "metadata": {},
   "outputs": [],
   "source": [
    "# 9) estimate homoplay from ancestral reconstruction (6) (optional - can be constant)\n",
    "ReconTree = SetHomoplasy(ReconTree, skip=1)\n",
    "\n",
    "# TODO save space no need for GroundTruthTree genotypes from here"
   ]
  },
  {
   "cell_type": "code",
   "execution_count": null,
   "metadata": {},
   "outputs": [],
   "source": [
    "# 10) simulate 10x times the number of events\n",
    "# TODO could save space by calculatin 12 while building tree, then erasing prev data\n",
    "n_sim_genes = min(n_genes*10, int(5e5))\n",
    "sim_n_mutations_max = ReconTree.homoplasy.xk.max()\n",
    "chunks = int(1e5)\n",
    "parts = int(n_sim_genes//chunks)\n",
    "sim_events_per_mut = []\n",
    "for i in tqdm.tqdm(range(parts), total=parts, desc='simulating events in chucks'):\n",
    "    sim_events_per_mut.append((np.argsort(np.random.rand(chunks, population-1))[:, :sim_n_mutations_max] + 1))\n",
    "sim_events_per_mut = np.concatenate(sim_events_per_mut)\n",
    "lims = ReconTree.homoplasy.rvs(size=n_sim_genes)\n",
    "SimTree = RandomAtributes(GroundTruthTree.copy(), population, n_sim_genes, sim_events_per_mut, lims=lims)\n",
    "\n",
    "# save space no need for ReconTree\n",
    "del ReconTree\n",
    "del sim_events_per_mut"
   ]
  },
  {
   "cell_type": "code",
   "execution_count": null,
   "metadata": {
    "scrolled": true
   },
   "outputs": [],
   "source": [
    "# 11) calculate TreeWas scores distribution from simulated set to GroundTruth phenotype\n",
    "# 12) calculate TreeWas scores from reconstructed tree to GroundTruth phenotype\n",
    "if tips:\n",
    "    tables_sim_raw = GetPhyloTipsContingency(SimTree, GroundTruthTree, phen_ind=0, skip=1)\n",
    "    score_1_dist, tip_sim = tables_to_pval(tables_sim_raw, 'hist_only')\n",
    "    tables_sim = tables_to_pval(tables_recon_tips, score_1_dist, twotail=True)[['pval_input_hist']]\n",
    "    tables_sim.columns = ['tips_score']\n",
    "    del tables_recon_tips\n",
    "\n",
    "if para:\n",
    "    tables_sim_raw = GetPhyloEventContingency(SimTree, GroundTruthTree, phen_ind=0, skip=1, with_rand=False) \n",
    "    score_2_dist, para_sim = tables_to_pval(tables_sim_raw, 'hist_only')\n",
    "    tables_sim = tables_to_pval(tables_recon_para, score_2_dist)[['pval_input_hist']]\n",
    "    tables_sim.columns = ['parallel_score']\n",
    "    del tables_recon_para, tables_sim_raw\n",
    "\n",
    "if subs:\n",
    "    score_3_dist = GetPhyloSebsequentScore(SimTree, GroundTruthTree, phen_ind=0, skip=1, with_rand=False, dist_only=True) \n",
    "    tables_sim = pd.DataFrame([score_3_dist.sf(tables_recon_subs)], columns='subs_score')"
   ]
  },
  {
   "cell_type": "code",
   "execution_count": null,
   "metadata": {
    "collapsed": true
   },
   "outputs": [],
   "source": [
    "tot_tables = GroundTruthTables.join(tables_recon, rsuffix='_recon').join(tables_sim, rsuffix='_treewas').dropna()"
   ]
  },
  {
   "cell_type": "code",
   "execution_count": null,
   "metadata": {
    "collapsed": true
   },
   "outputs": [],
   "source": [
    "# pval_cols = ['pval_hist_para', 'pval_hist_tips', 'pval_fisher', 'tips_score', 'parallel_score', 'subs_score']\n",
    "pval_cols = ['pval_hist_para', 'pval_fisher', 'parallel_score']"
   ]
  },
  {
   "cell_type": "code",
   "execution_count": null,
   "metadata": {
    "scrolled": true
   },
   "outputs": [],
   "source": [
    "pval_hists(tot_tables, pval_cols, outpath=outpath)\n",
    "# TODO fix hists"
   ]
  },
  {
   "cell_type": "code",
   "execution_count": null,
   "metadata": {
    "scrolled": true
   },
   "outputs": [],
   "source": [
    "pval_corr(tot_tables, pval_cols, outpath=outpath)"
   ]
  },
  {
   "cell_type": "code",
   "execution_count": null,
   "metadata": {
    "scrolled": true
   },
   "outputs": [],
   "source": [
    "hist_to_spearman(tot_tables, 'pval_hist_para', ['pval_fisher', 'parallel_score'], ReconHist, outpath=outpath)"
   ]
  },
  {
   "cell_type": "code",
   "execution_count": null,
   "metadata": {},
   "outputs": [],
   "source": [
    "ods_ratio_sf(tot_tables, ['ods', 'ods_para'], outpath=outpath)"
   ]
  },
  {
   "cell_type": "code",
   "execution_count": null,
   "metadata": {
    "collapsed": true
   },
   "outputs": [],
   "source": []
  }
 ],
 "metadata": {
  "kernelspec": {
   "display_name": "Python 3",
   "language": "python",
   "name": "python3"
  },
  "language_info": {
   "codemirror_mode": {
    "name": "ipython",
    "version": 3
   },
   "file_extension": ".py",
   "mimetype": "text/x-python",
   "name": "python",
   "nbconvert_exporter": "python",
   "pygments_lexer": "ipython3",
   "version": "3.7.1"
  }
 },
 "nbformat": 4,
 "nbformat_minor": 2
}
